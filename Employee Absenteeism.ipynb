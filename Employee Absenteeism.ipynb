{
 "cells": [
  {
   "cell_type": "code",
   "execution_count": 1,
   "metadata": {},
   "outputs": [],
   "source": [
    "import os\n",
    "import pandas as pd\n",
    "import numpy as np\n",
    "import seaborn as sns\n",
    "import matplotlib.pyplot as plt\n",
    "from ggplot import *"
   ]
  },
  {
   "cell_type": "code",
   "execution_count": 2,
   "metadata": {},
   "outputs": [
    {
     "name": "stderr",
     "output_type": "stream",
     "text": [
      "/anaconda3/lib/python3.6/site-packages/h5py/__init__.py:36: FutureWarning: Conversion of the second argument of issubdtype from `float` to `np.floating` is deprecated. In future, it will be treated as `np.float64 == np.dtype(float).type`.\n",
      "  from ._conv import register_converters as _register_converters\n",
      "Using TensorFlow backend.\n"
     ]
    }
   ],
   "source": [
    "from pandas import Timestamp\n",
    "from fancyimpute import KNN\n",
    "from random import randrange, uniform"
   ]
  },
  {
   "cell_type": "code",
   "execution_count": 3,
   "metadata": {},
   "outputs": [
    {
     "name": "stdout",
     "output_type": "stream",
     "text": [
      "/anaconda3/lib/python3.6/site-packages\n"
     ]
    }
   ],
   "source": [
    "import sys\n",
    "site_packages = next(p for p in sys.path if 'site-packages' in p)\n",
    "print (site_packages)"
   ]
  },
  {
   "cell_type": "code",
   "execution_count": 4,
   "metadata": {
    "scrolled": true
   },
   "outputs": [
    {
     "data": {
      "text/plain": [
       "'/Users/ad/Desktop/Project 2'"
      ]
     },
     "execution_count": 4,
     "metadata": {},
     "output_type": "execute_result"
    }
   ],
   "source": [
    "os.chdir(\"/Users/ad/Desktop/Project 2\")\n",
    "os.getcwd()"
   ]
  },
  {
   "cell_type": "code",
   "execution_count": 5,
   "metadata": {},
   "outputs": [],
   "source": [
    "data = pd.read_excel(\"Absenteeism_at_work_Project.xls\")"
   ]
  },
  {
   "cell_type": "code",
   "execution_count": 83,
   "metadata": {},
   "outputs": [
    {
     "data": {
      "text/plain": [
       "Index(['ID', 'Reason_for_absence', 'Month_of_absence', 'Day_of_week',\n",
       "       'Seasons', 'Transportation_expense', 'Distance_from_Residence_to_Work',\n",
       "       'Service_time', 'Age', 'Work_load_average_per_day', 'Hit_target',\n",
       "       'Disciplinary_failure', 'Education', 'Son', 'Social_drinker',\n",
       "       'Social_smoker', 'Pet', 'Weight', 'Height', 'Body_mass_index',\n",
       "       'Absent_time'],\n",
       "      dtype='object')"
      ]
     },
     "execution_count": 83,
     "metadata": {},
     "output_type": "execute_result"
    }
   ],
   "source": [
    "data.columns"
   ]
  },
  {
   "cell_type": "code",
   "execution_count": null,
   "metadata": {},
   "outputs": [],
   "source": [
    "data.describe()"
   ]
  },
  {
   "cell_type": "code",
   "execution_count": null,
   "metadata": {},
   "outputs": [],
   "source": [
    "data.shape"
   ]
  },
  {
   "cell_type": "code",
   "execution_count": 6,
   "metadata": {
    "scrolled": true
   },
   "outputs": [],
   "source": [
    "# Changing Data type\n",
    "data['Reason_for_absence'] = data['Reason_for_absence'].astype('object')\n",
    "data['Month_of_absence'] = data['Month_of_absence'].astype('object')\n",
    "data['Day_of_week'] = data['Day_of_week'].astype('object')\n",
    "data['Seasons'] = data['Seasons'].astype('object')\n",
    "data['Disciplinary_failure'] = data['Disciplinary_failure'].astype('object')\n",
    "data['Education'] = data['Education'].astype('object')\n",
    "data['Social_drinker'] = data['Social_drinker'].astype('object')\n",
    "data['Social_smoker'] = data['Social_smoker'].astype('object')"
   ]
  },
  {
   "cell_type": "code",
   "execution_count": null,
   "metadata": {},
   "outputs": [],
   "source": [
    "data.dtypes"
   ]
  },
  {
   "cell_type": "code",
   "execution_count": null,
   "metadata": {},
   "outputs": [],
   "source": [
    "data.head()"
   ]
  },
  {
   "cell_type": "code",
   "execution_count": 7,
   "metadata": {},
   "outputs": [],
   "source": [
    "# Separating Numeric and Categorical Variables\n",
    "\n",
    "num = [\"ID\", \"Transportation_expense\", \"Distance_from_Residence_to_Work\", \"Service_time\", \"Age\", \"Work_load_average_per_day\",\n",
    "         \"Hit_target\", \"Son\", \"Pet\", \"Weight\", \"Height\", \"Body_mass_index\", \"Absent_time\"]\n",
    "cat = [\"Reason_for_absence\", \"Month_of_absence\", \"Day_of_week\", \"Seasons\", \"Disciplinary_failure\", \"Education\",\n",
    "      \"Social_smoker\", \"Social_drinker\"]"
   ]
  },
  {
   "cell_type": "code",
   "execution_count": null,
   "metadata": {},
   "outputs": [],
   "source": [
    "## Checking correlations values of continous variables\n",
    "corr = data[num].corr()\n",
    "corr.style.background_gradient()"
   ]
  },
  {
   "cell_type": "code",
   "execution_count": null,
   "metadata": {},
   "outputs": [],
   "source": [
    "# Barplot for Reason.for.absence\n",
    "ggplot(data, aes(x = \"Reason_for_absence\", y = 'Absent_time'))+\\\n",
    "geom_bar(fill= \"DarkSlateBlue\") +\\\n",
    "scale_color_brewer(type = 'diverging', palatte= 2) +\\\n",
    "xlab('Reason_for_absence') + ylab('Absent_Time') + ggtitle(\"Absenteeism Analysis\") + theme_bw()"
   ]
  },
  {
   "cell_type": "code",
   "execution_count": null,
   "metadata": {},
   "outputs": [],
   "source": [
    "# Barplot for Month.of.absence\n",
    "ggplot(data, aes(x = \"Month_of_absence\", y = 'Absent_time'))+\\\n",
    "geom_bar(fill= \"LightBlue\") +\\\n",
    "scale_color_brewer(type = 'diverging', palatte= 8) +\\\n",
    "xlab('Month_of_absence') + ylab('Absent_Time') + ggtitle(\"Absenteeism Analysis\") + theme_bw()"
   ]
  },
  {
   "cell_type": "code",
   "execution_count": null,
   "metadata": {},
   "outputs": [],
   "source": [
    "# Barplot for 'Day.of.the.week'\n",
    "ggplot(data, aes(x = 'Day_of_week', y = 'Absent_time'))+\\\n",
    "geom_bar(fill= \"DarkSlateBlue\") +\\\n",
    "scale_color_brewer(type = 'diverging', palatte= 2) +\\\n",
    "xlab('Day_of_week') + ylab('Absent.Time') + ggtitle(\"Absenteeism Analysis\") + theme_bw()"
   ]
  },
  {
   "cell_type": "code",
   "execution_count": null,
   "metadata": {},
   "outputs": [],
   "source": [
    "# Barplot for \"Seasons\"\n",
    "ggplot(data, aes(x = \"Seasons\", y = 'Absent_time'))+\\\n",
    "geom_bar(fill= \"LightBlue\") +\\\n",
    "scale_color_brewer(type = 'diverging', palatte= 2) +\\\n",
    "xlab('Seasons') + ylab('Absenteeism.Time') + ggtitle(\"Absenteeism per day\") + theme_bw()"
   ]
  },
  {
   "cell_type": "code",
   "execution_count": null,
   "metadata": {},
   "outputs": [],
   "source": [
    "# Barplot for \"Disciplinary.failure\"\n",
    "ggplot(data, aes(x = \"Disciplinary_failure\", y = 'Absent_time'))+\\\n",
    "geom_bar(fill= \"LightBlue\") +\\\n",
    "scale_color_brewer(type = 'diverging', palatte= 2) +\\\n",
    "xlab('Disciplinary Failure') + ylab('Absenteeism.Time') + ggtitle(\"Absenteeism per day\") + theme_bw()"
   ]
  },
  {
   "cell_type": "code",
   "execution_count": null,
   "metadata": {},
   "outputs": [],
   "source": [
    "# Barplot for \"Education\"\n",
    "ggplot(data, aes(x = \"Education\", y = 'Absent_time'))+\\\n",
    "geom_bar(fill= \"DarkSlateBlue\") +\\\n",
    "scale_color_brewer(type = 'diverging', palatte= 2) +\\\n",
    "xlab('Day.of.week') + ylab('Absenteeism.Time') + ggtitle(\"Absenteeism Analysis\") + theme_bw()"
   ]
  },
  {
   "cell_type": "code",
   "execution_count": null,
   "metadata": {},
   "outputs": [],
   "source": [
    "# Barplot for \"Social.drinker\"\n",
    "ggplot(data, aes(x = \"Social_drinker\", y = 'Absent_time'))+\\\n",
    "geom_bar(fill= \"LightBlue\") +\\\n",
    "scale_color_brewer(type = 'diverging', palatte= 2) +\\\n",
    "xlab('Social.drinker') + ylab('Absenteeism.Time') + ggtitle(\"Absenteeism per day\") + theme_bw()"
   ]
  },
  {
   "cell_type": "code",
   "execution_count": null,
   "metadata": {},
   "outputs": [],
   "source": [
    "# Barplot for \"Social.smoker\"\n",
    "ggplot(data, aes(x = \"Social_smoker\", y = 'Absent_time'))+\\\n",
    "geom_bar(fill= \"DarkSlateBlue\") +\\\n",
    "scale_color_brewer(type = 'diverging', palatte= 2) +\\\n",
    "xlab('Social.smoker') + ylab('Absenteeism.Time') + ggtitle(\"Absenteeism per day\") + theme_bw()"
   ]
  },
  {
   "cell_type": "markdown",
   "metadata": {},
   "source": [
    "# Missing Value Analysis"
   ]
  },
  {
   "cell_type": "code",
   "execution_count": 8,
   "metadata": {},
   "outputs": [],
   "source": [
    "# Checking Missing Values\n",
    "\n",
    "missing_val= pd.DataFrame(data.isnull().sum())"
   ]
  },
  {
   "cell_type": "code",
   "execution_count": 9,
   "metadata": {},
   "outputs": [],
   "source": [
    "missing_val = missing_val.reset_index()"
   ]
  },
  {
   "cell_type": "code",
   "execution_count": 10,
   "metadata": {},
   "outputs": [],
   "source": [
    "missing_val = missing_val.rename(columns= {'index':'Variables', 0 : 'Missing Percent'})"
   ]
  },
  {
   "cell_type": "code",
   "execution_count": 11,
   "metadata": {},
   "outputs": [],
   "source": [
    "missing_val['Missing Percent'] = (missing_val['Missing Percent']/len(data))*100"
   ]
  },
  {
   "cell_type": "code",
   "execution_count": 12,
   "metadata": {},
   "outputs": [],
   "source": [
    "missing_val= missing_val.sort_values('Missing Percent', ascending= False).reset_index(drop= True)"
   ]
  },
  {
   "cell_type": "code",
   "execution_count": 13,
   "metadata": {},
   "outputs": [],
   "source": [
    "# Imputing categorical variables\n",
    "\n",
    "data['Education'] = data['Education'].fillna(data['Education'].median())\n",
    "data['Social_smoker'] = data['Social_smoker'].fillna(data['Social_smoker'].median())\n",
    "data['Disciplinary_failure'] = data['Disciplinary_failure'].fillna(data['Disciplinary_failure'].median())\n",
    "data['Reason_for_absence'] = data['Reason_for_absence'].fillna(data['Reason_for_absence'].median())\n",
    "data['Social_drinker'] = data['Social_drinker'].fillna(data['Social_drinker'].median())\n",
    "data['Month_of_absence'] = data['Month_of_absence'].fillna(data['Month_of_absence'].median())"
   ]
  },
  {
   "cell_type": "code",
   "execution_count": 14,
   "metadata": {},
   "outputs": [
    {
     "name": "stdout",
     "output_type": "stream",
     "text": [
      "Imputing row 1/740 with 0 missing, elapsed time: 0.247\n",
      "Imputing row 101/740 with 1 missing, elapsed time: 0.249\n",
      "Imputing row 201/740 with 0 missing, elapsed time: 0.251\n",
      "Imputing row 301/740 with 0 missing, elapsed time: 0.252\n",
      "Imputing row 401/740 with 0 missing, elapsed time: 0.253\n",
      "Imputing row 501/740 with 0 missing, elapsed time: 0.253\n",
      "Imputing row 601/740 with 0 missing, elapsed time: 0.254\n",
      "Imputing row 701/740 with 0 missing, elapsed time: 0.255\n"
     ]
    }
   ],
   "source": [
    "# KNN\n",
    "data = pd.DataFrame(KNN(k = 3).fit_transform(data), columns = data.columns)"
   ]
  },
  {
   "cell_type": "markdown",
   "metadata": {},
   "source": [
    "# Outlier Analysis"
   ]
  },
  {
   "cell_type": "code",
   "execution_count": null,
   "metadata": {},
   "outputs": [],
   "source": [
    "# Boxplot to visualize outliers\n",
    "\n",
    "%matplotlib inline\n",
    "plt.boxplot(data['Transportation_expense'])"
   ]
  },
  {
   "cell_type": "code",
   "execution_count": null,
   "metadata": {},
   "outputs": [],
   "source": [
    "%matplotlib inline\n",
    "plt.boxplot(data['Distance_from_Residence_to_Work'])"
   ]
  },
  {
   "cell_type": "code",
   "execution_count": null,
   "metadata": {},
   "outputs": [],
   "source": [
    "%matplotlib inline\n",
    "plt.boxplot(data['Service_time'])"
   ]
  },
  {
   "cell_type": "code",
   "execution_count": null,
   "metadata": {},
   "outputs": [],
   "source": [
    "%matplotlib inline\n",
    "plt.boxplot(data['Age'])"
   ]
  },
  {
   "cell_type": "code",
   "execution_count": null,
   "metadata": {},
   "outputs": [],
   "source": [
    "%matplotlib inline\n",
    "plt.boxplot(data['Work_load_average_per_day'])"
   ]
  },
  {
   "cell_type": "code",
   "execution_count": null,
   "metadata": {},
   "outputs": [],
   "source": [
    "%matplotlib inline\n",
    "plt.boxplot(data['Hit_target'])"
   ]
  },
  {
   "cell_type": "code",
   "execution_count": null,
   "metadata": {},
   "outputs": [],
   "source": [
    "%matplotlib inline\n",
    "plt.boxplot(data['Son'])"
   ]
  },
  {
   "cell_type": "code",
   "execution_count": null,
   "metadata": {},
   "outputs": [],
   "source": [
    "%matplotlib inline\n",
    "plt.boxplot(data['Pet'])"
   ]
  },
  {
   "cell_type": "code",
   "execution_count": null,
   "metadata": {},
   "outputs": [],
   "source": [
    "%matplotlib inline\n",
    "plt.boxplot(data['Weight'])"
   ]
  },
  {
   "cell_type": "code",
   "execution_count": null,
   "metadata": {},
   "outputs": [],
   "source": [
    "%matplotlib inline\n",
    "plt.boxplot(data['Height'])"
   ]
  },
  {
   "cell_type": "code",
   "execution_count": null,
   "metadata": {},
   "outputs": [],
   "source": [
    "%matplotlib inline\n",
    "plt.boxplot(data['Body_mass_index'])"
   ]
  },
  {
   "cell_type": "code",
   "execution_count": null,
   "metadata": {},
   "outputs": [],
   "source": [
    "%matplotlib inline\n",
    "plt.boxplot(data['Absent_time'])"
   ]
  },
  {
   "cell_type": "code",
   "execution_count": 15,
   "metadata": {},
   "outputs": [
    {
     "name": "stdout",
     "output_type": "stream",
     "text": [
      "ID\n",
      "-19.5\n",
      "56.5\n",
      "Transportation_expense\n",
      "57.5\n",
      "381.5\n",
      "Distance_from_Residence_to_Work\n",
      "-35.0\n",
      "101.0\n",
      "Service_time\n",
      "-1.5\n",
      "26.5\n",
      "Age\n",
      "17.5\n",
      "53.5\n",
      "Work_load_average_per_day\n",
      "183688.0\n",
      "345552.0\n",
      "Hit_target\n",
      "87.0\n",
      "103.0\n",
      "Son\n",
      "-3.0\n",
      "5.0\n",
      "Pet\n",
      "-1.5\n",
      "2.5\n",
      "Weight\n",
      "39.0\n",
      "119.0\n",
      "Height\n",
      "164.5\n",
      "176.5\n",
      "Body_mass_index\n",
      "13.5\n",
      "41.5\n",
      "Absent_time\n",
      "-7.0\n",
      "17.0\n"
     ]
    }
   ],
   "source": [
    "# Detect and delete outliers from data\n",
    "for i in num:\n",
    "    print(i)\n",
    "    q75, q25 = np.percentile(data.loc[:,i], [75, 25])\n",
    "    iqr = q75 - q25\n",
    "    \n",
    "    min = q25 - (iqr * 1.5)\n",
    "    max = q75 + (iqr * 1.5)\n",
    "    \n",
    "    print(min)\n",
    "    print(max)\n",
    "    data.loc[data.loc[:,i] < min,i]= np.nan\n",
    "    data.loc[data.loc[:,i] > max,i]= np.nan"
   ]
  },
  {
   "cell_type": "code",
   "execution_count": null,
   "metadata": {},
   "outputs": [],
   "source": [
    "#data.isnull().sum()"
   ]
  },
  {
   "cell_type": "code",
   "execution_count": 16,
   "metadata": {},
   "outputs": [
    {
     "name": "stdout",
     "output_type": "stream",
     "text": [
      "Imputing row 1/740 with 1 missing, elapsed time: 0.124\n",
      "Imputing row 101/740 with 1 missing, elapsed time: 0.126\n",
      "Imputing row 201/740 with 1 missing, elapsed time: 0.127\n",
      "Imputing row 301/740 with 0 missing, elapsed time: 0.130\n",
      "Imputing row 401/740 with 0 missing, elapsed time: 0.132\n",
      "Imputing row 501/740 with 0 missing, elapsed time: 0.133\n",
      "Imputing row 601/740 with 0 missing, elapsed time: 0.134\n",
      "Imputing row 701/740 with 0 missing, elapsed time: 0.136\n"
     ]
    }
   ],
   "source": [
    "# KNN Imputation\n",
    "data = pd.DataFrame(KNN(k = 3).fit_transform(data), columns = data.columns)"
   ]
  },
  {
   "cell_type": "code",
   "execution_count": null,
   "metadata": {},
   "outputs": [],
   "source": [
    "#data_copy = data\n",
    "#data = data_copy"
   ]
  },
  {
   "cell_type": "markdown",
   "metadata": {},
   "source": [
    "# Feature Selection"
   ]
  },
  {
   "cell_type": "code",
   "execution_count": 17,
   "metadata": {},
   "outputs": [],
   "source": [
    "import statsmodels.api as sm\n",
    "from statsmodels.formula.api import ols"
   ]
  },
  {
   "cell_type": "code",
   "execution_count": 18,
   "metadata": {},
   "outputs": [
    {
     "name": "stdout",
     "output_type": "stream",
     "text": [
      "                         sum_sq     df          F   PR(>F)\n",
      "Reason_for_absence   197.753268    1.0  17.632084  0.00003\n",
      "Residual            8277.065550  738.0        NaN      NaN\n"
     ]
    }
   ],
   "source": [
    "model = ols('Absent_time ~ Reason_for_absence', data = data).fit()\n",
    "aov = sm.stats.anova_lm(model, typ = 2)\n",
    "print(aov)"
   ]
  },
  {
   "cell_type": "code",
   "execution_count": 19,
   "metadata": {},
   "outputs": [
    {
     "name": "stdout",
     "output_type": "stream",
     "text": [
      "                       sum_sq     df      F    PR(>F)\n",
      "Month_of_absence     0.057421    1.0  0.005  0.943645\n",
      "Residual          8474.761398  738.0    NaN       NaN\n"
     ]
    }
   ],
   "source": [
    "model = ols('Absent_time ~ Month_of_absence', data = data).fit()\n",
    "aov = sm.stats.anova_lm(model, typ = 2)\n",
    "print(aov)"
   ]
  },
  {
   "cell_type": "code",
   "execution_count": 20,
   "metadata": {},
   "outputs": [
    {
     "name": "stdout",
     "output_type": "stream",
     "text": [
      "                  sum_sq     df         F    PR(>F)\n",
      "Day_of_week    52.128182    1.0  4.567495  0.032912\n",
      "Residual     8422.690636  738.0       NaN       NaN\n"
     ]
    }
   ],
   "source": [
    "model = ols('Absent_time ~ Day_of_week', data = data).fit()\n",
    "aov = sm.stats.anova_lm(model, typ = 2)\n",
    "print(aov)"
   ]
  },
  {
   "cell_type": "code",
   "execution_count": 21,
   "metadata": {
    "scrolled": true
   },
   "outputs": [
    {
     "name": "stdout",
     "output_type": "stream",
     "text": [
      "               sum_sq     df         F    PR(>F)\n",
      "Seasons     28.990630    1.0  2.533213  0.111901\n",
      "Residual  8445.828189  738.0       NaN       NaN\n"
     ]
    }
   ],
   "source": [
    "model = ols('Absent_time ~ Seasons', data = data).fit()\n",
    "aov = sm.stats.anova_lm(model, typ = 2)\n",
    "print(aov)"
   ]
  },
  {
   "cell_type": "code",
   "execution_count": 22,
   "metadata": {},
   "outputs": [
    {
     "name": "stdout",
     "output_type": "stream",
     "text": [
      "                sum_sq     df         F    PR(>F)\n",
      "Education     6.323289    1.0  0.551053  0.458124\n",
      "Residual   8468.495529  738.0       NaN       NaN\n"
     ]
    }
   ],
   "source": [
    "model = ols('Absent_time ~ Education', data = data).fit()\n",
    "aov = sm.stats.anova_lm(model, typ = 2)\n",
    "print(aov)"
   ]
  },
  {
   "cell_type": "code",
   "execution_count": 23,
   "metadata": {},
   "outputs": [
    {
     "name": "stdout",
     "output_type": "stream",
     "text": [
      "                           sum_sq     df         F        PR(>F)\n",
      "Disciplinary_failure   563.316843    1.0  52.54727  1.061676e-12\n",
      "Residual              7911.501975  738.0       NaN           NaN\n"
     ]
    }
   ],
   "source": [
    "model = ols('Absent_time ~ Disciplinary_failure', data = data).fit()\n",
    "aov = sm.stats.anova_lm(model, typ = 2)\n",
    "print(aov)"
   ]
  },
  {
   "cell_type": "code",
   "execution_count": 24,
   "metadata": {},
   "outputs": [
    {
     "name": "stdout",
     "output_type": "stream",
     "text": [
      "                     sum_sq     df         F    PR(>F)\n",
      "Social_drinker    61.521656    1.0  5.396574  0.020447\n",
      "Residual        8413.297162  738.0       NaN       NaN\n"
     ]
    }
   ],
   "source": [
    "model = ols('Absent_time ~ Social_drinker', data = data).fit()\n",
    "aov = sm.stats.anova_lm(model, typ = 2)\n",
    "print(aov)"
   ]
  },
  {
   "cell_type": "code",
   "execution_count": 25,
   "metadata": {},
   "outputs": [
    {
     "name": "stdout",
     "output_type": "stream",
     "text": [
      "                    sum_sq     df         F    PR(>F)\n",
      "Social_smoker    15.301812    1.0  1.334915  0.248307\n",
      "Residual       8459.517006  738.0       NaN       NaN\n"
     ]
    }
   ],
   "source": [
    "model = ols('Absent_time ~ Social_smoker', data = data).fit()\n",
    "aov = sm.stats.anova_lm(model, typ = 2)\n",
    "print(aov)"
   ]
  },
  {
   "cell_type": "code",
   "execution_count": null,
   "metadata": {
    "scrolled": false
   },
   "outputs": [],
   "source": [
    "## Checking correlations of continous variables\n",
    "# Correlation Plot\n",
    "df_corr = data.loc[:,num]\n",
    "\n",
    "corr = df_corr.corr()\n",
    "sns.heatmap(corr, xticklabels=corr.columns.values, yticklabels=corr.columns.values)"
   ]
  },
  {
   "cell_type": "markdown",
   "metadata": {},
   "source": [
    "# Feature Scaling"
   ]
  },
  {
   "cell_type": "code",
   "execution_count": 26,
   "metadata": {},
   "outputs": [
    {
     "name": "stdout",
     "output_type": "stream",
     "text": [
      "ID\n",
      "Transportation_expense\n",
      "Distance_from_Residence_to_Work\n",
      "Service_time\n",
      "Age\n",
      "Work_load_average_per_day\n",
      "Hit_target\n",
      "Son\n",
      "Pet\n",
      "Weight\n",
      "Height\n",
      "Body_mass_index\n",
      "Absent_time\n"
     ]
    }
   ],
   "source": [
    "# Normalisation\n",
    "for i in num:\n",
    "    print(i)\n",
    "    data[i]= (data[i]-data[i].min())/(data[i].max()- data[i].min())"
   ]
  },
  {
   "cell_type": "code",
   "execution_count": null,
   "metadata": {},
   "outputs": [],
   "source": [
    "# Drop Variables\n",
    "data = data.drop([\"Month_of_absence\",\"Seasons\",\"Education\",\"Social_smoker\",\"Weight\"], axis= 1)"
   ]
  },
  {
   "cell_type": "markdown",
   "metadata": {},
   "source": [
    "# Model Preparation"
   ]
  },
  {
   "cell_type": "code",
   "execution_count": 27,
   "metadata": {},
   "outputs": [],
   "source": [
    "# Create Dummy Variables\n",
    "df = pd.get_dummies(data, columns=[\"Reason_for_absence\", \"Day_of_week\", \"Disciplinary_failure\",\"Social_drinker\"], drop_first=True)"
   ]
  },
  {
   "cell_type": "code",
   "execution_count": 29,
   "metadata": {},
   "outputs": [
    {
     "data": {
      "text/plain": [
       "Index(['ID', 'Month_of_absence', 'Seasons', 'Transportation_expense',\n",
       "       'Distance_from_Residence_to_Work', 'Service_time', 'Age',\n",
       "       'Work_load_average_per_day', 'Hit_target', 'Education', 'Son',\n",
       "       'Social_smoker', 'Pet', 'Weight', 'Height', 'Body_mass_index',\n",
       "       'Absent_time', 'Reason_for_absence_1.0', 'Reason_for_absence_2.0',\n",
       "       'Reason_for_absence_3.0', 'Reason_for_absence_4.0',\n",
       "       'Reason_for_absence_5.0', 'Reason_for_absence_6.0',\n",
       "       'Reason_for_absence_7.0', 'Reason_for_absence_8.0',\n",
       "       'Reason_for_absence_9.0', 'Reason_for_absence_10.0',\n",
       "       'Reason_for_absence_11.0', 'Reason_for_absence_12.0',\n",
       "       'Reason_for_absence_13.0', 'Reason_for_absence_14.0',\n",
       "       'Reason_for_absence_15.0', 'Reason_for_absence_16.0',\n",
       "       'Reason_for_absence_17.0', 'Reason_for_absence_18.0',\n",
       "       'Reason_for_absence_19.0', 'Reason_for_absence_21.0',\n",
       "       'Reason_for_absence_22.0', 'Reason_for_absence_23.0',\n",
       "       'Reason_for_absence_24.0', 'Reason_for_absence_25.0',\n",
       "       'Reason_for_absence_26.0', 'Reason_for_absence_27.0',\n",
       "       'Reason_for_absence_28.0', 'Day_of_week_3.0', 'Day_of_week_4.0',\n",
       "       'Day_of_week_5.0', 'Day_of_week_6.0', 'Disciplinary_failure_1.0',\n",
       "       'Social_drinker_1.0'],\n",
       "      dtype='object')"
      ]
     },
     "execution_count": 29,
     "metadata": {},
     "output_type": "execute_result"
    }
   ],
   "source": [
    "df.columns"
   ]
  },
  {
   "cell_type": "code",
   "execution_count": 30,
   "metadata": {},
   "outputs": [],
   "source": [
    "column_titles = ['ID', 'Transportation_expense', 'Distance_from_Residence_to_Work',\n",
    "                 'Service_time', 'Age', 'Work_load_average_per_day', 'Hit_target', 'Son','Pet', 'Height',\n",
    "                 'Body_mass_index','Reason_for_absence_1.0', 'Reason_for_absence_2.0',\n",
    "                 'Reason_for_absence_3.0', 'Reason_for_absence_4.0','Reason_for_absence_5.0', \n",
    "                 'Reason_for_absence_6.0','Reason_for_absence_7.0', 'Reason_for_absence_8.0',\n",
    "                 'Reason_for_absence_9.0', 'Reason_for_absence_10.0','Reason_for_absence_11.0', \n",
    "                 'Reason_for_absence_12.0','Reason_for_absence_13.0', 'Reason_for_absence_14.0',\n",
    "                 'Reason_for_absence_15.0', 'Reason_for_absence_16.0','Reason_for_absence_17.0', \n",
    "                 'Reason_for_absence_18.0','Reason_for_absence_19.0', 'Reason_for_absence_21.0',\n",
    "                 'Reason_for_absence_22.0', 'Reason_for_absence_23.0','Reason_for_absence_24.0', \n",
    "                 'Reason_for_absence_25.0','Reason_for_absence_26.0', 'Reason_for_absence_27.0',\n",
    "                 'Reason_for_absence_28.0', 'Day_of_week_3.0', 'Day_of_week_4.0','Day_of_week_5.0', 'Day_of_week_6.0', \n",
    "                 'Disciplinary_failure_1.0','Social_drinker_1.0', 'Absent_time']"
   ]
  },
  {
   "cell_type": "code",
   "execution_count": 31,
   "metadata": {},
   "outputs": [],
   "source": [
    "df = df.reindex(columns = column_titles)"
   ]
  },
  {
   "cell_type": "code",
   "execution_count": 32,
   "metadata": {},
   "outputs": [],
   "source": [
    "# Sampling\n",
    "from sklearn.model_selection import train_test_split"
   ]
  },
  {
   "cell_type": "code",
   "execution_count": 33,
   "metadata": {},
   "outputs": [],
   "source": [
    "train, test = train_test_split(df, test_size = 0.2)"
   ]
  },
  {
   "cell_type": "code",
   "execution_count": 34,
   "metadata": {},
   "outputs": [
    {
     "data": {
      "text/plain": [
       "(148, 45)"
      ]
     },
     "execution_count": 34,
     "metadata": {},
     "output_type": "execute_result"
    }
   ],
   "source": [
    "test.shape"
   ]
  },
  {
   "cell_type": "code",
   "execution_count": 35,
   "metadata": {},
   "outputs": [
    {
     "data": {
      "text/html": [
       "<div>\n",
       "<style scoped>\n",
       "    .dataframe tbody tr th:only-of-type {\n",
       "        vertical-align: middle;\n",
       "    }\n",
       "\n",
       "    .dataframe tbody tr th {\n",
       "        vertical-align: top;\n",
       "    }\n",
       "\n",
       "    .dataframe thead th {\n",
       "        text-align: right;\n",
       "    }\n",
       "</style>\n",
       "<table border=\"1\" class=\"dataframe\">\n",
       "  <thead>\n",
       "    <tr style=\"text-align: right;\">\n",
       "      <th></th>\n",
       "      <th>ID</th>\n",
       "      <th>Transportation_expense</th>\n",
       "      <th>Distance_from_Residence_to_Work</th>\n",
       "      <th>Service_time</th>\n",
       "      <th>Age</th>\n",
       "      <th>Work_load_average_per_day</th>\n",
       "      <th>Hit_target</th>\n",
       "      <th>Son</th>\n",
       "      <th>Pet</th>\n",
       "      <th>Height</th>\n",
       "      <th>...</th>\n",
       "      <th>Reason_for_absence_26.0</th>\n",
       "      <th>Reason_for_absence_27.0</th>\n",
       "      <th>Reason_for_absence_28.0</th>\n",
       "      <th>Day_of_week_3.0</th>\n",
       "      <th>Day_of_week_4.0</th>\n",
       "      <th>Day_of_week_5.0</th>\n",
       "      <th>Day_of_week_6.0</th>\n",
       "      <th>Disciplinary_failure_1.0</th>\n",
       "      <th>Social_drinker_1.0</th>\n",
       "      <th>Absent_time</th>\n",
       "    </tr>\n",
       "  </thead>\n",
       "  <tbody>\n",
       "    <tr>\n",
       "      <th>184</th>\n",
       "      <td>0.400000</td>\n",
       "      <td>0.665385</td>\n",
       "      <td>0.553191</td>\n",
       "      <td>0.478261</td>\n",
       "      <td>0.500000</td>\n",
       "      <td>0.877665</td>\n",
       "      <td>0.692308</td>\n",
       "      <td>0.25</td>\n",
       "      <td>0.5</td>\n",
       "      <td>0.600000</td>\n",
       "      <td>...</td>\n",
       "      <td>0</td>\n",
       "      <td>0</td>\n",
       "      <td>1</td>\n",
       "      <td>0</td>\n",
       "      <td>1</td>\n",
       "      <td>0</td>\n",
       "      <td>0</td>\n",
       "      <td>0</td>\n",
       "      <td>1</td>\n",
       "      <td>0.0625</td>\n",
       "    </tr>\n",
       "    <tr>\n",
       "      <th>159</th>\n",
       "      <td>0.400000</td>\n",
       "      <td>0.665385</td>\n",
       "      <td>0.553191</td>\n",
       "      <td>0.478261</td>\n",
       "      <td>0.500000</td>\n",
       "      <td>1.000000</td>\n",
       "      <td>0.615385</td>\n",
       "      <td>0.25</td>\n",
       "      <td>0.5</td>\n",
       "      <td>0.600000</td>\n",
       "      <td>...</td>\n",
       "      <td>0</td>\n",
       "      <td>0</td>\n",
       "      <td>0</td>\n",
       "      <td>0</td>\n",
       "      <td>1</td>\n",
       "      <td>0</td>\n",
       "      <td>0</td>\n",
       "      <td>0</td>\n",
       "      <td>1</td>\n",
       "      <td>0.5000</td>\n",
       "    </tr>\n",
       "    <tr>\n",
       "      <th>365</th>\n",
       "      <td>0.114286</td>\n",
       "      <td>0.450000</td>\n",
       "      <td>0.319149</td>\n",
       "      <td>0.521739</td>\n",
       "      <td>0.615385</td>\n",
       "      <td>0.903944</td>\n",
       "      <td>1.000000</td>\n",
       "      <td>0.25</td>\n",
       "      <td>0.0</td>\n",
       "      <td>0.200000</td>\n",
       "      <td>...</td>\n",
       "      <td>1</td>\n",
       "      <td>0</td>\n",
       "      <td>0</td>\n",
       "      <td>0</td>\n",
       "      <td>0</td>\n",
       "      <td>0</td>\n",
       "      <td>0</td>\n",
       "      <td>0</td>\n",
       "      <td>1</td>\n",
       "      <td>0.5000</td>\n",
       "    </tr>\n",
       "    <tr>\n",
       "      <th>676</th>\n",
       "      <td>0.685714</td>\n",
       "      <td>0.450000</td>\n",
       "      <td>0.234043</td>\n",
       "      <td>0.304348</td>\n",
       "      <td>0.192308</td>\n",
       "      <td>0.231105</td>\n",
       "      <td>0.923077</td>\n",
       "      <td>0.00</td>\n",
       "      <td>0.0</td>\n",
       "      <td>0.400001</td>\n",
       "      <td>...</td>\n",
       "      <td>0</td>\n",
       "      <td>0</td>\n",
       "      <td>1</td>\n",
       "      <td>0</td>\n",
       "      <td>1</td>\n",
       "      <td>0</td>\n",
       "      <td>0</td>\n",
       "      <td>0</td>\n",
       "      <td>0</td>\n",
       "      <td>0.1250</td>\n",
       "    </tr>\n",
       "    <tr>\n",
       "      <th>273</th>\n",
       "      <td>0.114286</td>\n",
       "      <td>0.450000</td>\n",
       "      <td>0.319149</td>\n",
       "      <td>0.521739</td>\n",
       "      <td>0.615385</td>\n",
       "      <td>0.642949</td>\n",
       "      <td>0.499449</td>\n",
       "      <td>0.25</td>\n",
       "      <td>0.0</td>\n",
       "      <td>0.208315</td>\n",
       "      <td>...</td>\n",
       "      <td>0</td>\n",
       "      <td>0</td>\n",
       "      <td>0</td>\n",
       "      <td>0</td>\n",
       "      <td>0</td>\n",
       "      <td>1</td>\n",
       "      <td>0</td>\n",
       "      <td>1</td>\n",
       "      <td>1</td>\n",
       "      <td>0.0000</td>\n",
       "    </tr>\n",
       "  </tbody>\n",
       "</table>\n",
       "<p>5 rows × 45 columns</p>\n",
       "</div>"
      ],
      "text/plain": [
       "           ID  Transportation_expense  Distance_from_Residence_to_Work  \\\n",
       "184  0.400000                0.665385                         0.553191   \n",
       "159  0.400000                0.665385                         0.553191   \n",
       "365  0.114286                0.450000                         0.319149   \n",
       "676  0.685714                0.450000                         0.234043   \n",
       "273  0.114286                0.450000                         0.319149   \n",
       "\n",
       "     Service_time       Age  Work_load_average_per_day  Hit_target   Son  Pet  \\\n",
       "184      0.478261  0.500000                   0.877665    0.692308  0.25  0.5   \n",
       "159      0.478261  0.500000                   1.000000    0.615385  0.25  0.5   \n",
       "365      0.521739  0.615385                   0.903944    1.000000  0.25  0.0   \n",
       "676      0.304348  0.192308                   0.231105    0.923077  0.00  0.0   \n",
       "273      0.521739  0.615385                   0.642949    0.499449  0.25  0.0   \n",
       "\n",
       "       Height     ...       Reason_for_absence_26.0  Reason_for_absence_27.0  \\\n",
       "184  0.600000     ...                             0                        0   \n",
       "159  0.600000     ...                             0                        0   \n",
       "365  0.200000     ...                             1                        0   \n",
       "676  0.400001     ...                             0                        0   \n",
       "273  0.208315     ...                             0                        0   \n",
       "\n",
       "     Reason_for_absence_28.0  Day_of_week_3.0  Day_of_week_4.0  \\\n",
       "184                        1                0                1   \n",
       "159                        0                0                1   \n",
       "365                        0                0                0   \n",
       "676                        1                0                1   \n",
       "273                        0                0                0   \n",
       "\n",
       "     Day_of_week_5.0  Day_of_week_6.0  Disciplinary_failure_1.0  \\\n",
       "184                0                0                         0   \n",
       "159                0                0                         0   \n",
       "365                0                0                         0   \n",
       "676                0                0                         0   \n",
       "273                1                0                         1   \n",
       "\n",
       "     Social_drinker_1.0  Absent_time  \n",
       "184                   1       0.0625  \n",
       "159                   1       0.5000  \n",
       "365                   1       0.5000  \n",
       "676                   0       0.1250  \n",
       "273                   1       0.0000  \n",
       "\n",
       "[5 rows x 45 columns]"
      ]
     },
     "execution_count": 35,
     "metadata": {},
     "output_type": "execute_result"
    }
   ],
   "source": [
    "train.head()"
   ]
  },
  {
   "cell_type": "code",
   "execution_count": 36,
   "metadata": {},
   "outputs": [
    {
     "data": {
      "text/plain": [
       "array(['ID', 'Transportation_expense', 'Distance_from_Residence_to_Work',\n",
       "       'Service_time', 'Age', 'Work_load_average_per_day', 'Hit_target',\n",
       "       'Son', 'Pet', 'Height', 'Body_mass_index',\n",
       "       'Reason_for_absence_1.0', 'Reason_for_absence_2.0',\n",
       "       'Reason_for_absence_3.0', 'Reason_for_absence_4.0',\n",
       "       'Reason_for_absence_5.0', 'Reason_for_absence_6.0',\n",
       "       'Reason_for_absence_7.0', 'Reason_for_absence_8.0',\n",
       "       'Reason_for_absence_9.0', 'Reason_for_absence_10.0',\n",
       "       'Reason_for_absence_11.0', 'Reason_for_absence_12.0',\n",
       "       'Reason_for_absence_13.0', 'Reason_for_absence_14.0',\n",
       "       'Reason_for_absence_15.0', 'Reason_for_absence_16.0',\n",
       "       'Reason_for_absence_17.0', 'Reason_for_absence_18.0',\n",
       "       'Reason_for_absence_19.0', 'Reason_for_absence_21.0',\n",
       "       'Reason_for_absence_22.0', 'Reason_for_absence_23.0',\n",
       "       'Reason_for_absence_24.0', 'Reason_for_absence_25.0',\n",
       "       'Reason_for_absence_26.0', 'Reason_for_absence_27.0',\n",
       "       'Reason_for_absence_28.0', 'Day_of_week_3.0', 'Day_of_week_4.0',\n",
       "       'Day_of_week_5.0', 'Day_of_week_6.0', 'Disciplinary_failure_1.0',\n",
       "       'Social_drinker_1.0', 'Absent_time'], dtype=object)"
      ]
     },
     "execution_count": 36,
     "metadata": {},
     "output_type": "execute_result"
    }
   ],
   "source": [
    "df.columns.values"
   ]
  },
  {
   "cell_type": "markdown",
   "metadata": {},
   "source": [
    "# Decision Tree"
   ]
  },
  {
   "cell_type": "code",
   "execution_count": 61,
   "metadata": {},
   "outputs": [],
   "source": [
    "from sklearn.tree import DecisionTreeRegressor\n",
    "from sklearn.metrics import r2_score"
   ]
  },
  {
   "cell_type": "code",
   "execution_count": 62,
   "metadata": {},
   "outputs": [],
   "source": [
    "DT = DecisionTreeRegressor(max_depth = 2).fit(train.iloc[:,0:44], train.iloc[:,44])"
   ]
  },
  {
   "cell_type": "code",
   "execution_count": 63,
   "metadata": {},
   "outputs": [],
   "source": [
    "prediction_DT = DT.predict(test.iloc[:,0:44])"
   ]
  },
  {
   "cell_type": "code",
   "execution_count": 64,
   "metadata": {},
   "outputs": [],
   "source": [
    "def MAPE(y_true, y_pred):\n",
    "    mape = np.mean(np.abs((y_true - y_pred)/y_true))*100\n",
    "    return mape"
   ]
  },
  {
   "cell_type": "code",
   "execution_count": 65,
   "metadata": {},
   "outputs": [
    {
     "data": {
      "text/plain": [
       "inf"
      ]
     },
     "execution_count": 65,
     "metadata": {},
     "output_type": "execute_result"
    }
   ],
   "source": [
    "MAPE(test.iloc[:,44], prediction_DT)"
   ]
  },
  {
   "cell_type": "code",
   "execution_count": 66,
   "metadata": {},
   "outputs": [],
   "source": [
    "def rmse(predictions, targets):\n",
    "    return np.sqrt(((predictions - targets) ** 2).mean())"
   ]
  },
  {
   "cell_type": "code",
   "execution_count": 67,
   "metadata": {},
   "outputs": [
    {
     "data": {
      "text/plain": [
       "0.1872400884960002"
      ]
     },
     "execution_count": 67,
     "metadata": {},
     "output_type": "execute_result"
    }
   ],
   "source": [
    "rmse(prediction_DT, test.iloc[:,44])"
   ]
  },
  {
   "cell_type": "markdown",
   "metadata": {},
   "source": [
    "# Linear Regression Model"
   ]
  },
  {
   "cell_type": "code",
   "execution_count": 68,
   "metadata": {},
   "outputs": [],
   "source": [
    "import statsmodels.api as sm"
   ]
  },
  {
   "cell_type": "code",
   "execution_count": 69,
   "metadata": {},
   "outputs": [],
   "source": [
    "LM = sm.OLS(train.iloc[:,44], train.iloc[:,0:44]).fit()"
   ]
  },
  {
   "cell_type": "code",
   "execution_count": 70,
   "metadata": {},
   "outputs": [
    {
     "data": {
      "text/html": [
       "<table class=\"simpletable\">\n",
       "<caption>OLS Regression Results</caption>\n",
       "<tr>\n",
       "  <th>Dep. Variable:</th>       <td>Absent_time</td>   <th>  R-squared:         </th> <td>   0.793</td> \n",
       "</tr>\n",
       "<tr>\n",
       "  <th>Model:</th>                   <td>OLS</td>       <th>  Adj. R-squared:    </th> <td>   0.776</td> \n",
       "</tr>\n",
       "<tr>\n",
       "  <th>Method:</th>             <td>Least Squares</td>  <th>  F-statistic:       </th> <td>   47.62</td> \n",
       "</tr>\n",
       "<tr>\n",
       "  <th>Date:</th>             <td>Sun, 06 Jan 2019</td> <th>  Prob (F-statistic):</th> <td>3.14e-158</td>\n",
       "</tr>\n",
       "<tr>\n",
       "  <th>Time:</th>                 <td>03:49:57</td>     <th>  Log-Likelihood:    </th> <td>  248.94</td> \n",
       "</tr>\n",
       "<tr>\n",
       "  <th>No. Observations:</th>      <td>   592</td>      <th>  AIC:               </th> <td>  -409.9</td> \n",
       "</tr>\n",
       "<tr>\n",
       "  <th>Df Residuals:</th>          <td>   548</td>      <th>  BIC:               </th> <td>  -217.0</td> \n",
       "</tr>\n",
       "<tr>\n",
       "  <th>Df Model:</th>              <td>    44</td>      <th>                     </th>     <td> </td>    \n",
       "</tr>\n",
       "<tr>\n",
       "  <th>Covariance Type:</th>      <td>nonrobust</td>    <th>                     </th>     <td> </td>    \n",
       "</tr>\n",
       "</table>\n",
       "<table class=\"simpletable\">\n",
       "<tr>\n",
       "                 <td></td>                    <th>coef</th>     <th>std err</th>      <th>t</th>      <th>P>|t|</th>  <th>[0.025</th>    <th>0.975]</th>  \n",
       "</tr>\n",
       "<tr>\n",
       "  <th>ID</th>                              <td>   -0.0850</td> <td>    0.034</td> <td>   -2.515</td> <td> 0.012</td> <td>   -0.151</td> <td>   -0.019</td>\n",
       "</tr>\n",
       "<tr>\n",
       "  <th>Transportation_expense</th>          <td>    0.0509</td> <td>    0.043</td> <td>    1.185</td> <td> 0.236</td> <td>   -0.033</td> <td>    0.135</td>\n",
       "</tr>\n",
       "<tr>\n",
       "  <th>Distance_from_Residence_to_Work</th> <td>   -0.0412</td> <td>    0.029</td> <td>   -1.410</td> <td> 0.159</td> <td>   -0.099</td> <td>    0.016</td>\n",
       "</tr>\n",
       "<tr>\n",
       "  <th>Service_time</th>                    <td>   -0.0136</td> <td>    0.072</td> <td>   -0.188</td> <td> 0.851</td> <td>   -0.156</td> <td>    0.128</td>\n",
       "</tr>\n",
       "<tr>\n",
       "  <th>Age</th>                             <td>    0.0070</td> <td>    0.055</td> <td>    0.127</td> <td> 0.899</td> <td>   -0.101</td> <td>    0.114</td>\n",
       "</tr>\n",
       "<tr>\n",
       "  <th>Work_load_average_per_day</th>       <td>    0.0310</td> <td>    0.031</td> <td>    1.010</td> <td> 0.313</td> <td>   -0.029</td> <td>    0.091</td>\n",
       "</tr>\n",
       "<tr>\n",
       "  <th>Hit_target</th>                      <td>   -0.0003</td> <td>    0.030</td> <td>   -0.011</td> <td> 0.991</td> <td>   -0.059</td> <td>    0.058</td>\n",
       "</tr>\n",
       "<tr>\n",
       "  <th>Son</th>                             <td>    0.0223</td> <td>    0.034</td> <td>    0.655</td> <td> 0.512</td> <td>   -0.044</td> <td>    0.089</td>\n",
       "</tr>\n",
       "<tr>\n",
       "  <th>Pet</th>                             <td>   -0.0233</td> <td>    0.024</td> <td>   -0.959</td> <td> 0.338</td> <td>   -0.071</td> <td>    0.024</td>\n",
       "</tr>\n",
       "<tr>\n",
       "  <th>Height</th>                          <td>   -0.0453</td> <td>    0.042</td> <td>   -1.085</td> <td> 0.278</td> <td>   -0.127</td> <td>    0.037</td>\n",
       "</tr>\n",
       "<tr>\n",
       "  <th>Body_mass_index</th>                 <td>   -0.0383</td> <td>    0.045</td> <td>   -0.842</td> <td> 0.400</td> <td>   -0.128</td> <td>    0.051</td>\n",
       "</tr>\n",
       "<tr>\n",
       "  <th>Reason_for_absence_1.0</th>          <td>    0.5296</td> <td>    0.071</td> <td>    7.478</td> <td> 0.000</td> <td>    0.390</td> <td>    0.669</td>\n",
       "</tr>\n",
       "<tr>\n",
       "  <th>Reason_for_absence_2.0</th>          <td>    0.0245</td> <td>    0.176</td> <td>    0.139</td> <td> 0.889</td> <td>   -0.321</td> <td>    0.370</td>\n",
       "</tr>\n",
       "<tr>\n",
       "  <th>Reason_for_absence_3.0</th>          <td>    0.5320</td> <td>    0.177</td> <td>    2.998</td> <td> 0.003</td> <td>    0.183</td> <td>    0.881</td>\n",
       "</tr>\n",
       "<tr>\n",
       "  <th>Reason_for_absence_4.0</th>          <td>    0.3616</td> <td>    0.136</td> <td>    2.666</td> <td> 0.008</td> <td>    0.095</td> <td>    0.628</td>\n",
       "</tr>\n",
       "<tr>\n",
       "  <th>Reason_for_absence_5.0</th>          <td>    0.4987</td> <td>    0.112</td> <td>    4.440</td> <td> 0.000</td> <td>    0.278</td> <td>    0.719</td>\n",
       "</tr>\n",
       "<tr>\n",
       "  <th>Reason_for_absence_6.0</th>          <td>    0.4177</td> <td>    0.090</td> <td>    4.638</td> <td> 0.000</td> <td>    0.241</td> <td>    0.595</td>\n",
       "</tr>\n",
       "<tr>\n",
       "  <th>Reason_for_absence_7.0</th>          <td>    0.3506</td> <td>    0.070</td> <td>    5.025</td> <td> 0.000</td> <td>    0.214</td> <td>    0.488</td>\n",
       "</tr>\n",
       "<tr>\n",
       "  <th>Reason_for_absence_8.0</th>          <td>    0.4391</td> <td>    0.093</td> <td>    4.698</td> <td> 0.000</td> <td>    0.256</td> <td>    0.623</td>\n",
       "</tr>\n",
       "<tr>\n",
       "  <th>Reason_for_absence_9.0</th>          <td>    0.7739</td> <td>    0.101</td> <td>    7.688</td> <td> 0.000</td> <td>    0.576</td> <td>    0.972</td>\n",
       "</tr>\n",
       "<tr>\n",
       "  <th>Reason_for_absence_10.0</th>         <td>    0.5115</td> <td>    0.067</td> <td>    7.637</td> <td> 0.000</td> <td>    0.380</td> <td>    0.643</td>\n",
       "</tr>\n",
       "<tr>\n",
       "  <th>Reason_for_absence_11.0</th>         <td>    0.4274</td> <td>    0.065</td> <td>    6.567</td> <td> 0.000</td> <td>    0.300</td> <td>    0.555</td>\n",
       "</tr>\n",
       "<tr>\n",
       "  <th>Reason_for_absence_12.0</th>         <td>    0.3514</td> <td>    0.083</td> <td>    4.230</td> <td> 0.000</td> <td>    0.188</td> <td>    0.515</td>\n",
       "</tr>\n",
       "<tr>\n",
       "  <th>Reason_for_absence_13.0</th>         <td>    0.4526</td> <td>    0.061</td> <td>    7.420</td> <td> 0.000</td> <td>    0.333</td> <td>    0.572</td>\n",
       "</tr>\n",
       "<tr>\n",
       "  <th>Reason_for_absence_14.0</th>         <td>    0.3717</td> <td>    0.071</td> <td>    5.236</td> <td> 0.000</td> <td>    0.232</td> <td>    0.511</td>\n",
       "</tr>\n",
       "<tr>\n",
       "  <th>Reason_for_absence_15.0</th>         <td>    0.5689</td> <td>    0.132</td> <td>    4.298</td> <td> 0.000</td> <td>    0.309</td> <td>    0.829</td>\n",
       "</tr>\n",
       "<tr>\n",
       "  <th>Reason_for_absence_16.0</th>         <td>    0.1810</td> <td>    0.129</td> <td>    1.401</td> <td> 0.162</td> <td>   -0.073</td> <td>    0.435</td>\n",
       "</tr>\n",
       "<tr>\n",
       "  <th>Reason_for_absence_17.0</th>         <td>    0.5197</td> <td>    0.178</td> <td>    2.918</td> <td> 0.004</td> <td>    0.170</td> <td>    0.869</td>\n",
       "</tr>\n",
       "<tr>\n",
       "  <th>Reason_for_absence_18.0</th>         <td>    0.4739</td> <td>    0.067</td> <td>    7.057</td> <td> 0.000</td> <td>    0.342</td> <td>    0.606</td>\n",
       "</tr>\n",
       "<tr>\n",
       "  <th>Reason_for_absence_19.0</th>         <td>    0.4959</td> <td>    0.062</td> <td>    7.974</td> <td> 0.000</td> <td>    0.374</td> <td>    0.618</td>\n",
       "</tr>\n",
       "<tr>\n",
       "  <th>Reason_for_absence_21.0</th>         <td>    0.4059</td> <td>    0.087</td> <td>    4.685</td> <td> 0.000</td> <td>    0.236</td> <td>    0.576</td>\n",
       "</tr>\n",
       "<tr>\n",
       "  <th>Reason_for_absence_22.0</th>         <td>    0.5163</td> <td>    0.064</td> <td>    8.114</td> <td> 0.000</td> <td>    0.391</td> <td>    0.641</td>\n",
       "</tr>\n",
       "<tr>\n",
       "  <th>Reason_for_absence_23.0</th>         <td>    0.2419</td> <td>    0.056</td> <td>    4.310</td> <td> 0.000</td> <td>    0.132</td> <td>    0.352</td>\n",
       "</tr>\n",
       "<tr>\n",
       "  <th>Reason_for_absence_24.0</th>         <td>    0.5633</td> <td>    0.133</td> <td>    4.233</td> <td> 0.000</td> <td>    0.302</td> <td>    0.825</td>\n",
       "</tr>\n",
       "<tr>\n",
       "  <th>Reason_for_absence_25.0</th>         <td>    0.2683</td> <td>    0.065</td> <td>    4.101</td> <td> 0.000</td> <td>    0.140</td> <td>    0.397</td>\n",
       "</tr>\n",
       "<tr>\n",
       "  <th>Reason_for_absence_26.0</th>         <td>    0.5004</td> <td>    0.065</td> <td>    7.709</td> <td> 0.000</td> <td>    0.373</td> <td>    0.628</td>\n",
       "</tr>\n",
       "<tr>\n",
       "  <th>Reason_for_absence_27.0</th>         <td>    0.2116</td> <td>    0.061</td> <td>    3.466</td> <td> 0.001</td> <td>    0.092</td> <td>    0.332</td>\n",
       "</tr>\n",
       "<tr>\n",
       "  <th>Reason_for_absence_28.0</th>         <td>    0.2347</td> <td>    0.057</td> <td>    4.086</td> <td> 0.000</td> <td>    0.122</td> <td>    0.348</td>\n",
       "</tr>\n",
       "<tr>\n",
       "  <th>Day_of_week_3.0</th>                 <td>    0.0136</td> <td>    0.021</td> <td>    0.635</td> <td> 0.525</td> <td>   -0.028</td> <td>    0.056</td>\n",
       "</tr>\n",
       "<tr>\n",
       "  <th>Day_of_week_4.0</th>                 <td>    0.0104</td> <td>    0.022</td> <td>    0.473</td> <td> 0.636</td> <td>   -0.033</td> <td>    0.054</td>\n",
       "</tr>\n",
       "<tr>\n",
       "  <th>Day_of_week_5.0</th>                 <td>    0.0338</td> <td>    0.023</td> <td>    1.500</td> <td> 0.134</td> <td>   -0.010</td> <td>    0.078</td>\n",
       "</tr>\n",
       "<tr>\n",
       "  <th>Day_of_week_6.0</th>                 <td>    0.0019</td> <td>    0.022</td> <td>    0.085</td> <td> 0.932</td> <td>   -0.042</td> <td>    0.046</td>\n",
       "</tr>\n",
       "<tr>\n",
       "  <th>Disciplinary_failure_1.0</th>        <td>    0.0849</td> <td>    0.062</td> <td>    1.363</td> <td> 0.173</td> <td>   -0.037</td> <td>    0.207</td>\n",
       "</tr>\n",
       "<tr>\n",
       "  <th>Social_drinker_1.0</th>              <td>    0.0012</td> <td>    0.022</td> <td>    0.056</td> <td> 0.955</td> <td>   -0.041</td> <td>    0.043</td>\n",
       "</tr>\n",
       "</table>\n",
       "<table class=\"simpletable\">\n",
       "<tr>\n",
       "  <th>Omnibus:</th>       <td>184.062</td> <th>  Durbin-Watson:     </th> <td>   1.963</td> \n",
       "</tr>\n",
       "<tr>\n",
       "  <th>Prob(Omnibus):</th> <td> 0.000</td>  <th>  Jarque-Bera (JB):  </th> <td> 750.186</td> \n",
       "</tr>\n",
       "<tr>\n",
       "  <th>Skew:</th>          <td> 1.372</td>  <th>  Prob(JB):          </th> <td>1.26e-163</td>\n",
       "</tr>\n",
       "<tr>\n",
       "  <th>Kurtosis:</th>      <td> 7.783</td>  <th>  Cond. No.          </th> <td>    76.5</td> \n",
       "</tr>\n",
       "</table><br/><br/>Warnings:<br/>[1] Standard Errors assume that the covariance matrix of the errors is correctly specified."
      ],
      "text/plain": [
       "<class 'statsmodels.iolib.summary.Summary'>\n",
       "\"\"\"\n",
       "                            OLS Regression Results                            \n",
       "==============================================================================\n",
       "Dep. Variable:            Absent_time   R-squared:                       0.793\n",
       "Model:                            OLS   Adj. R-squared:                  0.776\n",
       "Method:                 Least Squares   F-statistic:                     47.62\n",
       "Date:                Sun, 06 Jan 2019   Prob (F-statistic):          3.14e-158\n",
       "Time:                        03:49:57   Log-Likelihood:                 248.94\n",
       "No. Observations:                 592   AIC:                            -409.9\n",
       "Df Residuals:                     548   BIC:                            -217.0\n",
       "Df Model:                          44                                         \n",
       "Covariance Type:            nonrobust                                         \n",
       "===================================================================================================\n",
       "                                      coef    std err          t      P>|t|      [0.025      0.975]\n",
       "---------------------------------------------------------------------------------------------------\n",
       "ID                                 -0.0850      0.034     -2.515      0.012      -0.151      -0.019\n",
       "Transportation_expense              0.0509      0.043      1.185      0.236      -0.033       0.135\n",
       "Distance_from_Residence_to_Work    -0.0412      0.029     -1.410      0.159      -0.099       0.016\n",
       "Service_time                       -0.0136      0.072     -0.188      0.851      -0.156       0.128\n",
       "Age                                 0.0070      0.055      0.127      0.899      -0.101       0.114\n",
       "Work_load_average_per_day           0.0310      0.031      1.010      0.313      -0.029       0.091\n",
       "Hit_target                         -0.0003      0.030     -0.011      0.991      -0.059       0.058\n",
       "Son                                 0.0223      0.034      0.655      0.512      -0.044       0.089\n",
       "Pet                                -0.0233      0.024     -0.959      0.338      -0.071       0.024\n",
       "Height                             -0.0453      0.042     -1.085      0.278      -0.127       0.037\n",
       "Body_mass_index                    -0.0383      0.045     -0.842      0.400      -0.128       0.051\n",
       "Reason_for_absence_1.0              0.5296      0.071      7.478      0.000       0.390       0.669\n",
       "Reason_for_absence_2.0              0.0245      0.176      0.139      0.889      -0.321       0.370\n",
       "Reason_for_absence_3.0              0.5320      0.177      2.998      0.003       0.183       0.881\n",
       "Reason_for_absence_4.0              0.3616      0.136      2.666      0.008       0.095       0.628\n",
       "Reason_for_absence_5.0              0.4987      0.112      4.440      0.000       0.278       0.719\n",
       "Reason_for_absence_6.0              0.4177      0.090      4.638      0.000       0.241       0.595\n",
       "Reason_for_absence_7.0              0.3506      0.070      5.025      0.000       0.214       0.488\n",
       "Reason_for_absence_8.0              0.4391      0.093      4.698      0.000       0.256       0.623\n",
       "Reason_for_absence_9.0              0.7739      0.101      7.688      0.000       0.576       0.972\n",
       "Reason_for_absence_10.0             0.5115      0.067      7.637      0.000       0.380       0.643\n",
       "Reason_for_absence_11.0             0.4274      0.065      6.567      0.000       0.300       0.555\n",
       "Reason_for_absence_12.0             0.3514      0.083      4.230      0.000       0.188       0.515\n",
       "Reason_for_absence_13.0             0.4526      0.061      7.420      0.000       0.333       0.572\n",
       "Reason_for_absence_14.0             0.3717      0.071      5.236      0.000       0.232       0.511\n",
       "Reason_for_absence_15.0             0.5689      0.132      4.298      0.000       0.309       0.829\n",
       "Reason_for_absence_16.0             0.1810      0.129      1.401      0.162      -0.073       0.435\n",
       "Reason_for_absence_17.0             0.5197      0.178      2.918      0.004       0.170       0.869\n",
       "Reason_for_absence_18.0             0.4739      0.067      7.057      0.000       0.342       0.606\n",
       "Reason_for_absence_19.0             0.4959      0.062      7.974      0.000       0.374       0.618\n",
       "Reason_for_absence_21.0             0.4059      0.087      4.685      0.000       0.236       0.576\n",
       "Reason_for_absence_22.0             0.5163      0.064      8.114      0.000       0.391       0.641\n",
       "Reason_for_absence_23.0             0.2419      0.056      4.310      0.000       0.132       0.352\n",
       "Reason_for_absence_24.0             0.5633      0.133      4.233      0.000       0.302       0.825\n",
       "Reason_for_absence_25.0             0.2683      0.065      4.101      0.000       0.140       0.397\n",
       "Reason_for_absence_26.0             0.5004      0.065      7.709      0.000       0.373       0.628\n",
       "Reason_for_absence_27.0             0.2116      0.061      3.466      0.001       0.092       0.332\n",
       "Reason_for_absence_28.0             0.2347      0.057      4.086      0.000       0.122       0.348\n",
       "Day_of_week_3.0                     0.0136      0.021      0.635      0.525      -0.028       0.056\n",
       "Day_of_week_4.0                     0.0104      0.022      0.473      0.636      -0.033       0.054\n",
       "Day_of_week_5.0                     0.0338      0.023      1.500      0.134      -0.010       0.078\n",
       "Day_of_week_6.0                     0.0019      0.022      0.085      0.932      -0.042       0.046\n",
       "Disciplinary_failure_1.0            0.0849      0.062      1.363      0.173      -0.037       0.207\n",
       "Social_drinker_1.0                  0.0012      0.022      0.056      0.955      -0.041       0.043\n",
       "==============================================================================\n",
       "Omnibus:                      184.062   Durbin-Watson:                   1.963\n",
       "Prob(Omnibus):                  0.000   Jarque-Bera (JB):              750.186\n",
       "Skew:                           1.372   Prob(JB):                    1.26e-163\n",
       "Kurtosis:                       7.783   Cond. No.                         76.5\n",
       "==============================================================================\n",
       "\n",
       "Warnings:\n",
       "[1] Standard Errors assume that the covariance matrix of the errors is correctly specified.\n",
       "\"\"\""
      ]
     },
     "execution_count": 70,
     "metadata": {},
     "output_type": "execute_result"
    }
   ],
   "source": [
    "LM.summary()"
   ]
  },
  {
   "cell_type": "code",
   "execution_count": 71,
   "metadata": {},
   "outputs": [],
   "source": [
    "prediction_LM = LM.predict(test.iloc[:,0:44])"
   ]
  },
  {
   "cell_type": "code",
   "execution_count": 72,
   "metadata": {},
   "outputs": [
    {
     "data": {
      "text/plain": [
       "inf"
      ]
     },
     "execution_count": 72,
     "metadata": {},
     "output_type": "execute_result"
    }
   ],
   "source": [
    "MAPE(test.iloc[:,44], prediction_LM)"
   ]
  },
  {
   "cell_type": "code",
   "execution_count": 73,
   "metadata": {},
   "outputs": [
    {
     "data": {
      "text/plain": [
       "0.16721623091633178"
      ]
     },
     "execution_count": 73,
     "metadata": {},
     "output_type": "execute_result"
    }
   ],
   "source": [
    "rmse(prediction_LM, test.iloc[:,44])"
   ]
  },
  {
   "cell_type": "markdown",
   "metadata": {},
   "source": [
    "# Random Forest"
   ]
  },
  {
   "cell_type": "code",
   "execution_count": 74,
   "metadata": {},
   "outputs": [],
   "source": [
    "from sklearn.ensemble import RandomForestRegressor"
   ]
  },
  {
   "cell_type": "code",
   "execution_count": 75,
   "metadata": {},
   "outputs": [],
   "source": [
    "RF = RandomForestRegressor(n_estimators=500).fit(train.iloc[:,0:44],train.iloc[:,44])"
   ]
  },
  {
   "cell_type": "code",
   "execution_count": 76,
   "metadata": {},
   "outputs": [],
   "source": [
    "RF_prediction= RF.predict(test.iloc[:,0:44])"
   ]
  },
  {
   "cell_type": "code",
   "execution_count": 77,
   "metadata": {},
   "outputs": [
    {
     "data": {
      "text/plain": [
       "inf"
      ]
     },
     "execution_count": 77,
     "metadata": {},
     "output_type": "execute_result"
    }
   ],
   "source": [
    "MAPE(test.iloc[:,44], RF_prediction)"
   ]
  },
  {
   "cell_type": "code",
   "execution_count": 78,
   "metadata": {},
   "outputs": [
    {
     "data": {
      "text/plain": [
       "0.15614319185297346"
      ]
     },
     "execution_count": 78,
     "metadata": {},
     "output_type": "execute_result"
    }
   ],
   "source": [
    "rmse(RF_prediction, test.iloc[:,44])"
   ]
  },
  {
   "cell_type": "markdown",
   "metadata": {},
   "source": [
    "# KNN"
   ]
  },
  {
   "cell_type": "code",
   "execution_count": 55,
   "metadata": {},
   "outputs": [],
   "source": [
    "from sklearn.neighbors import KNeighborsRegressor"
   ]
  },
  {
   "cell_type": "code",
   "execution_count": 56,
   "metadata": {},
   "outputs": [],
   "source": [
    "KNN_model = KNeighborsRegressor(n_neighbors = 3).fit(train.iloc[:,0:44], train.iloc[:,44])"
   ]
  },
  {
   "cell_type": "code",
   "execution_count": 57,
   "metadata": {},
   "outputs": [],
   "source": [
    "prediction_KNN = KNN_model.predict(test.iloc[:,0:44])"
   ]
  },
  {
   "cell_type": "code",
   "execution_count": 58,
   "metadata": {},
   "outputs": [
    {
     "data": {
      "text/plain": [
       "inf"
      ]
     },
     "execution_count": 58,
     "metadata": {},
     "output_type": "execute_result"
    }
   ],
   "source": [
    "MAPE(test.iloc[:,44], prediction_KNN)"
   ]
  },
  {
   "cell_type": "code",
   "execution_count": 59,
   "metadata": {},
   "outputs": [
    {
     "data": {
      "text/plain": [
       "0.1711391024271464"
      ]
     },
     "execution_count": 59,
     "metadata": {},
     "output_type": "execute_result"
    }
   ],
   "source": [
    "rmse(prediction_KNN, test.iloc[:,44])"
   ]
  },
  {
   "cell_type": "markdown",
   "metadata": {},
   "source": [
    "# Future Losses"
   ]
  },
  {
   "cell_type": "code",
   "execution_count": 110,
   "metadata": {
    "collapsed": true
   },
   "outputs": [
    {
     "ename": "TypeError",
     "evalue": "unhashable type: 'list'",
     "output_type": "error",
     "traceback": [
      "\u001b[0;31m---------------------------------------------------------------------------\u001b[0m",
      "\u001b[0;31mTypeError\u001b[0m                                 Traceback (most recent call last)",
      "\u001b[0;32m<ipython-input-110-bdd88719c3a0>\u001b[0m in \u001b[0;36m<module>\u001b[0;34m()\u001b[0m\n\u001b[0;32m----> 1\u001b[0;31m \u001b[0mwork_loss\u001b[0m \u001b[0;34m=\u001b[0m \u001b[0mdata\u001b[0m \u001b[0;34m[\u001b[0m\u001b[0;34m[\u001b[0m\u001b[0;34m'Month_of_absence'\u001b[0m\u001b[0;34m,\u001b[0m\u001b[0;34m'Service_time'\u001b[0m\u001b[0;34m,\u001b[0m\u001b[0;34m'Work_load_average_per_day'\u001b[0m\u001b[0;34m,\u001b[0m\u001b[0;34m'Absent_time'\u001b[0m\u001b[0;34m]\u001b[0m\u001b[0;34m]\u001b[0m\u001b[0;34m\u001b[0m\u001b[0m\n\u001b[0m",
      "\u001b[0;31mTypeError\u001b[0m: unhashable type: 'list'"
     ]
    }
   ],
   "source": [
    "work_loss = data [['Month_of_absence','Service_time','Work_load_average_per_day','Absent_time']]"
   ]
  },
  {
   "cell_type": "code",
   "execution_count": 101,
   "metadata": {
    "collapsed": true
   },
   "outputs": [
    {
     "name": "stderr",
     "output_type": "stream",
     "text": [
      "/anaconda3/lib/python3.6/site-packages/ipykernel_launcher.py:1: SettingWithCopyWarning: \n",
      "A value is trying to be set on a copy of a slice from a DataFrame.\n",
      "Try using .loc[row_indexer,col_indexer] = value instead\n",
      "\n",
      "See the caveats in the documentation: http://pandas.pydata.org/pandas-docs/stable/indexing.html#indexing-view-versus-copy\n",
      "  \"\"\"Entry point for launching an IPython kernel.\n"
     ]
    }
   ],
   "source": [
    "work_loss['loss']= (work_loss['Work_load_average_per_day']* work_loss['Absent_time'])/work_loss['Service_time']"
   ]
  },
  {
   "cell_type": "code",
   "execution_count": 89,
   "metadata": {
    "collapsed": true
   },
   "outputs": [
    {
     "data": {
      "text/html": [
       "<div>\n",
       "<style scoped>\n",
       "    .dataframe tbody tr th:only-of-type {\n",
       "        vertical-align: middle;\n",
       "    }\n",
       "\n",
       "    .dataframe tbody tr th {\n",
       "        vertical-align: top;\n",
       "    }\n",
       "\n",
       "    .dataframe thead th {\n",
       "        text-align: right;\n",
       "    }\n",
       "</style>\n",
       "<table border=\"1\" class=\"dataframe\">\n",
       "  <thead>\n",
       "    <tr style=\"text-align: right;\">\n",
       "      <th></th>\n",
       "      <th>Month_of_absence</th>\n",
       "      <th>Service_time</th>\n",
       "      <th>Work_load_average_per_day</th>\n",
       "      <th>Absent_time</th>\n",
       "      <th>loss</th>\n",
       "    </tr>\n",
       "  </thead>\n",
       "  <tbody>\n",
       "    <tr>\n",
       "      <th>0</th>\n",
       "      <td>7.0</td>\n",
       "      <td>0.521739</td>\n",
       "      <td>0.244925</td>\n",
       "      <td>0.250</td>\n",
       "      <td>0.117360</td>\n",
       "    </tr>\n",
       "    <tr>\n",
       "      <th>1</th>\n",
       "      <td>7.0</td>\n",
       "      <td>0.739130</td>\n",
       "      <td>0.244925</td>\n",
       "      <td>0.000</td>\n",
       "      <td>0.000000</td>\n",
       "    </tr>\n",
       "    <tr>\n",
       "      <th>2</th>\n",
       "      <td>7.0</td>\n",
       "      <td>0.739130</td>\n",
       "      <td>0.244925</td>\n",
       "      <td>0.125</td>\n",
       "      <td>0.041421</td>\n",
       "    </tr>\n",
       "    <tr>\n",
       "      <th>3</th>\n",
       "      <td>7.0</td>\n",
       "      <td>0.565217</td>\n",
       "      <td>0.244925</td>\n",
       "      <td>0.250</td>\n",
       "      <td>0.108332</td>\n",
       "    </tr>\n",
       "    <tr>\n",
       "      <th>4</th>\n",
       "      <td>7.0</td>\n",
       "      <td>0.521739</td>\n",
       "      <td>0.244925</td>\n",
       "      <td>0.125</td>\n",
       "      <td>0.058680</td>\n",
       "    </tr>\n",
       "  </tbody>\n",
       "</table>\n",
       "</div>"
      ],
      "text/plain": [
       "   Month_of_absence  Service_time  Work_load_average_per_day  Absent_time  \\\n",
       "0               7.0      0.521739                   0.244925        0.250   \n",
       "1               7.0      0.739130                   0.244925        0.000   \n",
       "2               7.0      0.739130                   0.244925        0.125   \n",
       "3               7.0      0.565217                   0.244925        0.250   \n",
       "4               7.0      0.521739                   0.244925        0.125   \n",
       "\n",
       "       loss  \n",
       "0  0.117360  \n",
       "1  0.000000  \n",
       "2  0.041421  \n",
       "3  0.108332  \n",
       "4  0.058680  "
      ]
     },
     "execution_count": 89,
     "metadata": {},
     "output_type": "execute_result"
    }
   ],
   "source": [
    "work_loss.head()"
   ]
  },
  {
   "cell_type": "code",
   "execution_count": 111,
   "metadata": {
    "collapsed": true
   },
   "outputs": [
    {
     "ename": "ValueError",
     "evalue": "Cannot convert non-finite values (NA or inf) to integer",
     "output_type": "error",
     "traceback": [
      "\u001b[0;31m---------------------------------------------------------------------------\u001b[0m",
      "\u001b[0;31mValueError\u001b[0m                                Traceback (most recent call last)",
      "\u001b[0;32m<ipython-input-111-a65ceca35c9c>\u001b[0m in \u001b[0;36m<module>\u001b[0;34m()\u001b[0m\n\u001b[0;32m----> 1\u001b[0;31m \u001b[0mwork_loss\u001b[0m\u001b[0;34m[\u001b[0m\u001b[0;34m\"loss\"\u001b[0m\u001b[0;34m]\u001b[0m \u001b[0;34m=\u001b[0m \u001b[0mnp\u001b[0m\u001b[0;34m.\u001b[0m\u001b[0mround\u001b[0m\u001b[0;34m(\u001b[0m\u001b[0mwork_loss\u001b[0m\u001b[0;34m[\u001b[0m\u001b[0;34m\"loss\"\u001b[0m\u001b[0;34m]\u001b[0m\u001b[0;34m)\u001b[0m\u001b[0;34m.\u001b[0m\u001b[0mastype\u001b[0m\u001b[0;34m(\u001b[0m\u001b[0;34m'int64'\u001b[0m\u001b[0;34m)\u001b[0m\u001b[0;34m\u001b[0m\u001b[0m\n\u001b[0m",
      "\u001b[0;32m/anaconda3/lib/python3.6/site-packages/pandas/util/_decorators.py\u001b[0m in \u001b[0;36mwrapper\u001b[0;34m(*args, **kwargs)\u001b[0m\n\u001b[1;32m    176\u001b[0m                 \u001b[0;32melse\u001b[0m\u001b[0;34m:\u001b[0m\u001b[0;34m\u001b[0m\u001b[0m\n\u001b[1;32m    177\u001b[0m                     \u001b[0mkwargs\u001b[0m\u001b[0;34m[\u001b[0m\u001b[0mnew_arg_name\u001b[0m\u001b[0;34m]\u001b[0m \u001b[0;34m=\u001b[0m \u001b[0mnew_arg_value\u001b[0m\u001b[0;34m\u001b[0m\u001b[0m\n\u001b[0;32m--> 178\u001b[0;31m             \u001b[0;32mreturn\u001b[0m \u001b[0mfunc\u001b[0m\u001b[0;34m(\u001b[0m\u001b[0;34m*\u001b[0m\u001b[0margs\u001b[0m\u001b[0;34m,\u001b[0m \u001b[0;34m**\u001b[0m\u001b[0mkwargs\u001b[0m\u001b[0;34m)\u001b[0m\u001b[0;34m\u001b[0m\u001b[0m\n\u001b[0m\u001b[1;32m    179\u001b[0m         \u001b[0;32mreturn\u001b[0m \u001b[0mwrapper\u001b[0m\u001b[0;34m\u001b[0m\u001b[0m\n\u001b[1;32m    180\u001b[0m     \u001b[0;32mreturn\u001b[0m \u001b[0m_deprecate_kwarg\u001b[0m\u001b[0;34m\u001b[0m\u001b[0m\n",
      "\u001b[0;32m/anaconda3/lib/python3.6/site-packages/pandas/core/generic.py\u001b[0m in \u001b[0;36mastype\u001b[0;34m(self, dtype, copy, errors, **kwargs)\u001b[0m\n\u001b[1;32m   4999\u001b[0m             \u001b[0;31m# else, only a single dtype is given\u001b[0m\u001b[0;34m\u001b[0m\u001b[0;34m\u001b[0m\u001b[0m\n\u001b[1;32m   5000\u001b[0m             new_data = self._data.astype(dtype=dtype, copy=copy, errors=errors,\n\u001b[0;32m-> 5001\u001b[0;31m                                          **kwargs)\n\u001b[0m\u001b[1;32m   5002\u001b[0m             \u001b[0;32mreturn\u001b[0m \u001b[0mself\u001b[0m\u001b[0;34m.\u001b[0m\u001b[0m_constructor\u001b[0m\u001b[0;34m(\u001b[0m\u001b[0mnew_data\u001b[0m\u001b[0;34m)\u001b[0m\u001b[0;34m.\u001b[0m\u001b[0m__finalize__\u001b[0m\u001b[0;34m(\u001b[0m\u001b[0mself\u001b[0m\u001b[0;34m)\u001b[0m\u001b[0;34m\u001b[0m\u001b[0m\n\u001b[1;32m   5003\u001b[0m \u001b[0;34m\u001b[0m\u001b[0m\n",
      "\u001b[0;32m/anaconda3/lib/python3.6/site-packages/pandas/core/internals.py\u001b[0m in \u001b[0;36mastype\u001b[0;34m(self, dtype, **kwargs)\u001b[0m\n\u001b[1;32m   3712\u001b[0m \u001b[0;34m\u001b[0m\u001b[0m\n\u001b[1;32m   3713\u001b[0m     \u001b[0;32mdef\u001b[0m \u001b[0mastype\u001b[0m\u001b[0;34m(\u001b[0m\u001b[0mself\u001b[0m\u001b[0;34m,\u001b[0m \u001b[0mdtype\u001b[0m\u001b[0;34m,\u001b[0m \u001b[0;34m**\u001b[0m\u001b[0mkwargs\u001b[0m\u001b[0;34m)\u001b[0m\u001b[0;34m:\u001b[0m\u001b[0;34m\u001b[0m\u001b[0m\n\u001b[0;32m-> 3714\u001b[0;31m         \u001b[0;32mreturn\u001b[0m \u001b[0mself\u001b[0m\u001b[0;34m.\u001b[0m\u001b[0mapply\u001b[0m\u001b[0;34m(\u001b[0m\u001b[0;34m'astype'\u001b[0m\u001b[0;34m,\u001b[0m \u001b[0mdtype\u001b[0m\u001b[0;34m=\u001b[0m\u001b[0mdtype\u001b[0m\u001b[0;34m,\u001b[0m \u001b[0;34m**\u001b[0m\u001b[0mkwargs\u001b[0m\u001b[0;34m)\u001b[0m\u001b[0;34m\u001b[0m\u001b[0m\n\u001b[0m\u001b[1;32m   3715\u001b[0m \u001b[0;34m\u001b[0m\u001b[0m\n\u001b[1;32m   3716\u001b[0m     \u001b[0;32mdef\u001b[0m \u001b[0mconvert\u001b[0m\u001b[0;34m(\u001b[0m\u001b[0mself\u001b[0m\u001b[0;34m,\u001b[0m \u001b[0;34m**\u001b[0m\u001b[0mkwargs\u001b[0m\u001b[0;34m)\u001b[0m\u001b[0;34m:\u001b[0m\u001b[0;34m\u001b[0m\u001b[0m\n",
      "\u001b[0;32m/anaconda3/lib/python3.6/site-packages/pandas/core/internals.py\u001b[0m in \u001b[0;36mapply\u001b[0;34m(self, f, axes, filter, do_integrity_check, consolidate, **kwargs)\u001b[0m\n\u001b[1;32m   3579\u001b[0m \u001b[0;34m\u001b[0m\u001b[0m\n\u001b[1;32m   3580\u001b[0m             \u001b[0mkwargs\u001b[0m\u001b[0;34m[\u001b[0m\u001b[0;34m'mgr'\u001b[0m\u001b[0;34m]\u001b[0m \u001b[0;34m=\u001b[0m \u001b[0mself\u001b[0m\u001b[0;34m\u001b[0m\u001b[0m\n\u001b[0;32m-> 3581\u001b[0;31m             \u001b[0mapplied\u001b[0m \u001b[0;34m=\u001b[0m \u001b[0mgetattr\u001b[0m\u001b[0;34m(\u001b[0m\u001b[0mb\u001b[0m\u001b[0;34m,\u001b[0m \u001b[0mf\u001b[0m\u001b[0;34m)\u001b[0m\u001b[0;34m(\u001b[0m\u001b[0;34m**\u001b[0m\u001b[0mkwargs\u001b[0m\u001b[0;34m)\u001b[0m\u001b[0;34m\u001b[0m\u001b[0m\n\u001b[0m\u001b[1;32m   3582\u001b[0m             \u001b[0mresult_blocks\u001b[0m \u001b[0;34m=\u001b[0m \u001b[0m_extend_blocks\u001b[0m\u001b[0;34m(\u001b[0m\u001b[0mapplied\u001b[0m\u001b[0;34m,\u001b[0m \u001b[0mresult_blocks\u001b[0m\u001b[0;34m)\u001b[0m\u001b[0;34m\u001b[0m\u001b[0m\n\u001b[1;32m   3583\u001b[0m \u001b[0;34m\u001b[0m\u001b[0m\n",
      "\u001b[0;32m/anaconda3/lib/python3.6/site-packages/pandas/core/internals.py\u001b[0m in \u001b[0;36mastype\u001b[0;34m(self, dtype, copy, errors, values, **kwargs)\u001b[0m\n\u001b[1;32m    573\u001b[0m     \u001b[0;32mdef\u001b[0m \u001b[0mastype\u001b[0m\u001b[0;34m(\u001b[0m\u001b[0mself\u001b[0m\u001b[0;34m,\u001b[0m \u001b[0mdtype\u001b[0m\u001b[0;34m,\u001b[0m \u001b[0mcopy\u001b[0m\u001b[0;34m=\u001b[0m\u001b[0;32mFalse\u001b[0m\u001b[0;34m,\u001b[0m \u001b[0merrors\u001b[0m\u001b[0;34m=\u001b[0m\u001b[0;34m'raise'\u001b[0m\u001b[0;34m,\u001b[0m \u001b[0mvalues\u001b[0m\u001b[0;34m=\u001b[0m\u001b[0;32mNone\u001b[0m\u001b[0;34m,\u001b[0m \u001b[0;34m**\u001b[0m\u001b[0mkwargs\u001b[0m\u001b[0;34m)\u001b[0m\u001b[0;34m:\u001b[0m\u001b[0;34m\u001b[0m\u001b[0m\n\u001b[1;32m    574\u001b[0m         return self._astype(dtype, copy=copy, errors=errors, values=values,\n\u001b[0;32m--> 575\u001b[0;31m                             **kwargs)\n\u001b[0m\u001b[1;32m    576\u001b[0m \u001b[0;34m\u001b[0m\u001b[0m\n\u001b[1;32m    577\u001b[0m     def _astype(self, dtype, copy=False, errors='raise', values=None,\n",
      "\u001b[0;32m/anaconda3/lib/python3.6/site-packages/pandas/core/internals.py\u001b[0m in \u001b[0;36m_astype\u001b[0;34m(self, dtype, copy, errors, values, klass, mgr, **kwargs)\u001b[0m\n\u001b[1;32m    662\u001b[0m \u001b[0;34m\u001b[0m\u001b[0m\n\u001b[1;32m    663\u001b[0m                 \u001b[0;31m# _astype_nansafe works fine with 1-d only\u001b[0m\u001b[0;34m\u001b[0m\u001b[0;34m\u001b[0m\u001b[0m\n\u001b[0;32m--> 664\u001b[0;31m                 \u001b[0mvalues\u001b[0m \u001b[0;34m=\u001b[0m \u001b[0mastype_nansafe\u001b[0m\u001b[0;34m(\u001b[0m\u001b[0mvalues\u001b[0m\u001b[0;34m.\u001b[0m\u001b[0mravel\u001b[0m\u001b[0;34m(\u001b[0m\u001b[0;34m)\u001b[0m\u001b[0;34m,\u001b[0m \u001b[0mdtype\u001b[0m\u001b[0;34m,\u001b[0m \u001b[0mcopy\u001b[0m\u001b[0;34m=\u001b[0m\u001b[0;32mTrue\u001b[0m\u001b[0;34m)\u001b[0m\u001b[0;34m\u001b[0m\u001b[0m\n\u001b[0m\u001b[1;32m    665\u001b[0m                 \u001b[0mvalues\u001b[0m \u001b[0;34m=\u001b[0m \u001b[0mvalues\u001b[0m\u001b[0;34m.\u001b[0m\u001b[0mreshape\u001b[0m\u001b[0;34m(\u001b[0m\u001b[0mself\u001b[0m\u001b[0;34m.\u001b[0m\u001b[0mshape\u001b[0m\u001b[0;34m)\u001b[0m\u001b[0;34m\u001b[0m\u001b[0m\n\u001b[1;32m    666\u001b[0m \u001b[0;34m\u001b[0m\u001b[0m\n",
      "\u001b[0;32m/anaconda3/lib/python3.6/site-packages/pandas/core/dtypes/cast.py\u001b[0m in \u001b[0;36mastype_nansafe\u001b[0;34m(arr, dtype, copy)\u001b[0m\n\u001b[1;32m    700\u001b[0m \u001b[0;34m\u001b[0m\u001b[0m\n\u001b[1;32m    701\u001b[0m         \u001b[0;32mif\u001b[0m \u001b[0;32mnot\u001b[0m \u001b[0mnp\u001b[0m\u001b[0;34m.\u001b[0m\u001b[0misfinite\u001b[0m\u001b[0;34m(\u001b[0m\u001b[0marr\u001b[0m\u001b[0;34m)\u001b[0m\u001b[0;34m.\u001b[0m\u001b[0mall\u001b[0m\u001b[0;34m(\u001b[0m\u001b[0;34m)\u001b[0m\u001b[0;34m:\u001b[0m\u001b[0;34m\u001b[0m\u001b[0m\n\u001b[0;32m--> 702\u001b[0;31m             raise ValueError('Cannot convert non-finite values (NA or inf) to '\n\u001b[0m\u001b[1;32m    703\u001b[0m                              'integer')\n\u001b[1;32m    704\u001b[0m \u001b[0;34m\u001b[0m\u001b[0m\n",
      "\u001b[0;31mValueError\u001b[0m: Cannot convert non-finite values (NA or inf) to integer"
     ]
    }
   ],
   "source": [
    "work_loss[\"loss\"] = np.round(work_loss[\"loss\"]).astype('int64')"
   ]
  },
  {
   "cell_type": "code",
   "execution_count": 91,
   "metadata": {},
   "outputs": [],
   "source": [
    "No_absent = work_loss[work_loss['Month_of_absence'] == 0]['loss'].sum()\n",
    "January = work_loss[work_loss['Month_of_absence'] == 1]['loss'].sum()\n",
    "February = work_loss[work_loss['Month_of_absence'] == 2]['loss'].sum()\n",
    "March = work_loss[work_loss['Month_of_absence'] == 3]['loss'].sum()\n",
    "April = work_loss[work_loss['Month_of_absence'] == 4]['loss'].sum()\n",
    "May = work_loss[work_loss['Month_of_absence'] == 5]['loss'].sum()\n",
    "June = work_loss[work_loss['Month_of_absence'] == 6]['loss'].sum()\n",
    "July = work_loss[work_loss['Month_of_absence'] == 7]['loss'].sum()\n",
    "August = work_loss[work_loss['Month_of_absence'] == 8]['loss'].sum() \n",
    "September = work_loss[work_loss['Month_of_absence'] == 9]['loss'].sum()\n",
    "October = work_loss[work_loss['Month_of_absence'] == 10]['loss'].sum() \n",
    "November = work_loss[work_loss['Month_of_absence'] == 11]['loss'].sum() \n",
    "December = work_loss[work_loss['Month_of_absence'] == 12]['loss'].sum()"
   ]
  },
  {
   "cell_type": "code",
   "execution_count": 92,
   "metadata": {},
   "outputs": [
    {
     "data": {
      "text/html": [
       "<div>\n",
       "<style scoped>\n",
       "    .dataframe tbody tr th:only-of-type {\n",
       "        vertical-align: middle;\n",
       "    }\n",
       "\n",
       "    .dataframe tbody tr th {\n",
       "        vertical-align: top;\n",
       "    }\n",
       "\n",
       "    .dataframe thead th {\n",
       "        text-align: right;\n",
       "    }\n",
       "</style>\n",
       "<table border=\"1\" class=\"dataframe\">\n",
       "  <thead>\n",
       "    <tr style=\"text-align: right;\">\n",
       "      <th></th>\n",
       "      <th>Month_of_absence</th>\n",
       "      <th>Service_time</th>\n",
       "      <th>Work_load_average_per_day</th>\n",
       "      <th>Absent_time</th>\n",
       "      <th>loss</th>\n",
       "    </tr>\n",
       "  </thead>\n",
       "  <tbody>\n",
       "    <tr>\n",
       "      <th>0</th>\n",
       "      <td>7.0</td>\n",
       "      <td>0.521739</td>\n",
       "      <td>0.244925</td>\n",
       "      <td>0.250</td>\n",
       "      <td>0.117360</td>\n",
       "    </tr>\n",
       "    <tr>\n",
       "      <th>1</th>\n",
       "      <td>7.0</td>\n",
       "      <td>0.739130</td>\n",
       "      <td>0.244925</td>\n",
       "      <td>0.000</td>\n",
       "      <td>0.000000</td>\n",
       "    </tr>\n",
       "    <tr>\n",
       "      <th>2</th>\n",
       "      <td>7.0</td>\n",
       "      <td>0.739130</td>\n",
       "      <td>0.244925</td>\n",
       "      <td>0.125</td>\n",
       "      <td>0.041421</td>\n",
       "    </tr>\n",
       "    <tr>\n",
       "      <th>3</th>\n",
       "      <td>7.0</td>\n",
       "      <td>0.565217</td>\n",
       "      <td>0.244925</td>\n",
       "      <td>0.250</td>\n",
       "      <td>0.108332</td>\n",
       "    </tr>\n",
       "    <tr>\n",
       "      <th>4</th>\n",
       "      <td>7.0</td>\n",
       "      <td>0.521739</td>\n",
       "      <td>0.244925</td>\n",
       "      <td>0.125</td>\n",
       "      <td>0.058680</td>\n",
       "    </tr>\n",
       "  </tbody>\n",
       "</table>\n",
       "</div>"
      ],
      "text/plain": [
       "   Month_of_absence  Service_time  Work_load_average_per_day  Absent_time  \\\n",
       "0               7.0      0.521739                   0.244925        0.250   \n",
       "1               7.0      0.739130                   0.244925        0.000   \n",
       "2               7.0      0.739130                   0.244925        0.125   \n",
       "3               7.0      0.565217                   0.244925        0.250   \n",
       "4               7.0      0.521739                   0.244925        0.125   \n",
       "\n",
       "       loss  \n",
       "0  0.117360  \n",
       "1  0.000000  \n",
       "2  0.041421  \n",
       "3  0.108332  \n",
       "4  0.058680  "
      ]
     },
     "execution_count": 92,
     "metadata": {},
     "output_type": "execute_result"
    }
   ],
   "source": [
    "work_loss.head()"
   ]
  },
  {
   "cell_type": "code",
   "execution_count": 104,
   "metadata": {},
   "outputs": [],
   "source": [
    "data_new = {'No Absent': No_absent, 'January': January,'Febraury': February,\n",
    "            'March': March, 'April': April, 'May': May,'June': June,'July': July,\n",
    "            'August': August,'September': September,'October': October,\n",
    "            'November': November, 'December': December}"
   ]
  },
  {
   "cell_type": "code",
   "execution_count": 105,
   "metadata": {},
   "outputs": [],
   "source": [
    "WorkLoss = pd.DataFrame.from_dict(data_new, orient='index')"
   ]
  },
  {
   "cell_type": "code",
   "execution_count": 112,
   "metadata": {},
   "outputs": [
    {
     "data": {
      "text/html": [
       "<div>\n",
       "<style scoped>\n",
       "    .dataframe tbody tr th:only-of-type {\n",
       "        vertical-align: middle;\n",
       "    }\n",
       "\n",
       "    .dataframe tbody tr th {\n",
       "        vertical-align: top;\n",
       "    }\n",
       "\n",
       "    .dataframe thead th {\n",
       "        text-align: right;\n",
       "    }\n",
       "</style>\n",
       "<table border=\"1\" class=\"dataframe\">\n",
       "  <thead>\n",
       "    <tr style=\"text-align: right;\">\n",
       "      <th></th>\n",
       "      <th>Work Load Loss/Month</th>\n",
       "    </tr>\n",
       "  </thead>\n",
       "  <tbody>\n",
       "    <tr>\n",
       "      <th>No Absent</th>\n",
       "      <td>0.000000</td>\n",
       "    </tr>\n",
       "    <tr>\n",
       "      <th>January</th>\n",
       "      <td>19.449484</td>\n",
       "    </tr>\n",
       "    <tr>\n",
       "      <th>Febraury</th>\n",
       "      <td>inf</td>\n",
       "    </tr>\n",
       "    <tr>\n",
       "      <th>March</th>\n",
       "      <td>34.110381</td>\n",
       "    </tr>\n",
       "    <tr>\n",
       "      <th>April</th>\n",
       "      <td>17.181944</td>\n",
       "    </tr>\n",
       "    <tr>\n",
       "      <th>May</th>\n",
       "      <td>13.389660</td>\n",
       "    </tr>\n",
       "    <tr>\n",
       "      <th>June</th>\n",
       "      <td>inf</td>\n",
       "    </tr>\n",
       "    <tr>\n",
       "      <th>July</th>\n",
       "      <td>inf</td>\n",
       "    </tr>\n",
       "    <tr>\n",
       "      <th>August</th>\n",
       "      <td>10.671711</td>\n",
       "    </tr>\n",
       "    <tr>\n",
       "      <th>September</th>\n",
       "      <td>12.752107</td>\n",
       "    </tr>\n",
       "    <tr>\n",
       "      <th>October</th>\n",
       "      <td>21.264808</td>\n",
       "    </tr>\n",
       "    <tr>\n",
       "      <th>November</th>\n",
       "      <td>21.678004</td>\n",
       "    </tr>\n",
       "    <tr>\n",
       "      <th>December</th>\n",
       "      <td>inf</td>\n",
       "    </tr>\n",
       "  </tbody>\n",
       "</table>\n",
       "</div>"
      ],
      "text/plain": [
       "           Work Load Loss/Month\n",
       "No Absent              0.000000\n",
       "January               19.449484\n",
       "Febraury                    inf\n",
       "March                 34.110381\n",
       "April                 17.181944\n",
       "May                   13.389660\n",
       "June                        inf\n",
       "July                        inf\n",
       "August                10.671711\n",
       "September             12.752107\n",
       "October               21.264808\n",
       "November              21.678004\n",
       "December                    inf"
      ]
     },
     "execution_count": 112,
     "metadata": {},
     "output_type": "execute_result"
    }
   ],
   "source": [
    "WorkLoss.rename(index=str, columns={0: \"Work Load Loss/Month\"})"
   ]
  }
 ],
 "metadata": {
  "kernelspec": {
   "display_name": "Python 3",
   "language": "python",
   "name": "python3"
  },
  "language_info": {
   "codemirror_mode": {
    "name": "ipython",
    "version": 3
   },
   "file_extension": ".py",
   "mimetype": "text/x-python",
   "name": "python",
   "nbconvert_exporter": "python",
   "pygments_lexer": "ipython3",
   "version": "3.6.5"
  }
 },
 "nbformat": 4,
 "nbformat_minor": 2
}
